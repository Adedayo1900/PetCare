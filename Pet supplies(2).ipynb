{
 "cells": [
  {
   "cell_type": "code",
   "execution_count": 119,
   "id": "b8c8006e",
   "metadata": {},
   "outputs": [
    {
     "data": {
      "text/html": [
       "<div>\n",
       "<style scoped>\n",
       "    .dataframe tbody tr th:only-of-type {\n",
       "        vertical-align: middle;\n",
       "    }\n",
       "\n",
       "    .dataframe tbody tr th {\n",
       "        vertical-align: top;\n",
       "    }\n",
       "\n",
       "    .dataframe thead th {\n",
       "        text-align: right;\n",
       "    }\n",
       "</style>\n",
       "<table border=\"1\" class=\"dataframe\">\n",
       "  <thead>\n",
       "    <tr style=\"text-align: right;\">\n",
       "      <th></th>\n",
       "      <th>category</th>\n",
       "      <th>animal</th>\n",
       "      <th>size</th>\n",
       "      <th>price</th>\n",
       "      <th>sales</th>\n",
       "      <th>rating</th>\n",
       "      <th>repeat_purchase</th>\n",
       "    </tr>\n",
       "    <tr>\n",
       "      <th>product_id</th>\n",
       "      <th></th>\n",
       "      <th></th>\n",
       "      <th></th>\n",
       "      <th></th>\n",
       "      <th></th>\n",
       "      <th></th>\n",
       "      <th></th>\n",
       "    </tr>\n",
       "  </thead>\n",
       "  <tbody>\n",
       "    <tr>\n",
       "      <th>1</th>\n",
       "      <td>Food</td>\n",
       "      <td>Bird</td>\n",
       "      <td>large</td>\n",
       "      <td>51.1</td>\n",
       "      <td>1860.62</td>\n",
       "      <td>7.0</td>\n",
       "      <td>1</td>\n",
       "    </tr>\n",
       "    <tr>\n",
       "      <th>2</th>\n",
       "      <td>Housing</td>\n",
       "      <td>Bird</td>\n",
       "      <td>MEDIUM</td>\n",
       "      <td>35.98</td>\n",
       "      <td>963.60</td>\n",
       "      <td>6.0</td>\n",
       "      <td>0</td>\n",
       "    </tr>\n",
       "    <tr>\n",
       "      <th>3</th>\n",
       "      <td>Food</td>\n",
       "      <td>Dog</td>\n",
       "      <td>medium</td>\n",
       "      <td>31.23</td>\n",
       "      <td>898.30</td>\n",
       "      <td>5.0</td>\n",
       "      <td>1</td>\n",
       "    </tr>\n",
       "    <tr>\n",
       "      <th>4</th>\n",
       "      <td>Medicine</td>\n",
       "      <td>Cat</td>\n",
       "      <td>small</td>\n",
       "      <td>24.95</td>\n",
       "      <td>982.15</td>\n",
       "      <td>6.0</td>\n",
       "      <td>1</td>\n",
       "    </tr>\n",
       "    <tr>\n",
       "      <th>5</th>\n",
       "      <td>Housing</td>\n",
       "      <td>Cat</td>\n",
       "      <td>Small</td>\n",
       "      <td>26.18</td>\n",
       "      <td>832.63</td>\n",
       "      <td>7.0</td>\n",
       "      <td>1</td>\n",
       "    </tr>\n",
       "  </tbody>\n",
       "</table>\n",
       "</div>"
      ],
      "text/plain": [
       "            category animal    size  price    sales  rating  repeat_purchase\n",
       "product_id                                                                  \n",
       "1               Food   Bird   large   51.1  1860.62     7.0                1\n",
       "2            Housing   Bird  MEDIUM  35.98   963.60     6.0                0\n",
       "3               Food    Dog  medium  31.23   898.30     5.0                1\n",
       "4           Medicine    Cat   small  24.95   982.15     6.0                1\n",
       "5            Housing    Cat   Small  26.18   832.63     7.0                1"
      ]
     },
     "execution_count": 119,
     "metadata": {},
     "output_type": "execute_result"
    }
   ],
   "source": [
    "import pandas as pd\n",
    "pet= pd.read_csv('pet_supplies_2212.csv', index_col=0)\n",
    "pet.head()"
   ]
  },
  {
   "cell_type": "code",
   "execution_count": 9,
   "id": "6c55336c",
   "metadata": {},
   "outputs": [
    {
     "data": {
      "text/plain": [
       "category            object\n",
       "animal              object\n",
       "size                object\n",
       "price               object\n",
       "sales              float64\n",
       "rating             float64\n",
       "repeat_purchase      int64\n",
       "dtype: object"
      ]
     },
     "execution_count": 9,
     "metadata": {},
     "output_type": "execute_result"
    }
   ],
   "source": [
    "pet.dtypes"
   ]
  },
  {
   "cell_type": "code",
   "execution_count": 121,
   "id": "e45fbff7",
   "metadata": {},
   "outputs": [],
   "source": [
    "pet['price'] = pd.to_numeric(pet.price, errors='coerce')\n",
    "pet['repeat_purchase']= pet['repeat_purchase'].astype(str)"
   ]
  },
  {
   "cell_type": "code",
   "execution_count": 122,
   "id": "5ead5cd9",
   "metadata": {},
   "outputs": [
    {
     "data": {
      "text/plain": [
       "category            object\n",
       "animal              object\n",
       "size                object\n",
       "price              float64\n",
       "sales              float64\n",
       "rating             float64\n",
       "repeat_purchase     object\n",
       "dtype: object"
      ]
     },
     "execution_count": 122,
     "metadata": {},
     "output_type": "execute_result"
    }
   ],
   "source": [
    "pet.dtypes"
   ]
  },
  {
   "cell_type": "code",
   "execution_count": 123,
   "id": "909455c1",
   "metadata": {},
   "outputs": [
    {
     "data": {
      "text/plain": [
       "category           False\n",
       "animal             False\n",
       "size               False\n",
       "price               True\n",
       "sales              False\n",
       "rating              True\n",
       "repeat_purchase    False\n",
       "dtype: bool"
      ]
     },
     "execution_count": 123,
     "metadata": {},
     "output_type": "execute_result"
    }
   ],
   "source": [
    "pet.isna().any()"
   ]
  },
  {
   "cell_type": "code",
   "execution_count": 124,
   "id": "3fc01127",
   "metadata": {},
   "outputs": [
    {
     "data": {
      "text/plain": [
       "category             0\n",
       "animal               0\n",
       "size                 0\n",
       "price              150\n",
       "sales                0\n",
       "rating             150\n",
       "repeat_purchase      0\n",
       "dtype: int64"
      ]
     },
     "execution_count": 124,
     "metadata": {},
     "output_type": "execute_result"
    }
   ],
   "source": [
    "pet.isna().sum()"
   ]
  },
  {
   "cell_type": "code",
   "execution_count": 127,
   "id": "c0a760c8",
   "metadata": {},
   "outputs": [
    {
     "data": {
      "text/plain": [
       "array(['large', 'MEDIUM', 'medium', 'small', 'Small', 'Large', 'SMALL',\n",
       "       'Medium', 'LARGE'], dtype=object)"
      ]
     },
     "execution_count": 127,
     "metadata": {},
     "output_type": "execute_result"
    }
   ],
   "source": [
    "pet['size'].unique()"
   ]
  },
  {
   "cell_type": "code",
   "execution_count": 138,
   "id": "5130b87e",
   "metadata": {},
   "outputs": [],
   "source": [
    "pet['size']= pet['size'].str.replace('large', 'Large', case= False)\n",
    "pet['size']= pet['size'].str.replace('medium', 'Medium', case= False)\n",
    "pet['size']= pet['size'].str.replace('small', 'Small', case= False)"
   ]
  },
  {
   "cell_type": "code",
   "execution_count": 139,
   "id": "d1aa6456",
   "metadata": {},
   "outputs": [
    {
     "data": {
      "text/plain": [
       "array(['Large', 'Medium', 'Small'], dtype=object)"
      ]
     },
     "execution_count": 139,
     "metadata": {},
     "output_type": "execute_result"
    }
   ],
   "source": [
    "pet['size'].unique()"
   ]
  },
  {
   "cell_type": "code",
   "execution_count": 136,
   "id": "bd3644a0",
   "metadata": {},
   "outputs": [],
   "source": [
    "pet['repeat_purchase']= pet['repeat_purchase'].str.replace('1', 'repeat_purchases')\n",
    "pet['repeat_purchase']= pet['repeat_purchase'].str.replace('0', 'non_repeat_purchases')"
   ]
  },
  {
   "cell_type": "code",
   "execution_count": 140,
   "id": "b0e62ca9",
   "metadata": {},
   "outputs": [
    {
     "data": {
      "text/plain": [
       "array(['repeat_purchases', 'non_repeat_purchases'], dtype=object)"
      ]
     },
     "execution_count": 140,
     "metadata": {},
     "output_type": "execute_result"
    }
   ],
   "source": [
    "pet['repeat_purchase'].unique()"
   ]
  },
  {
   "cell_type": "code",
   "execution_count": 141,
   "id": "d17d24d1",
   "metadata": {},
   "outputs": [
    {
     "name": "stdout",
     "output_type": "stream",
     "text": [
      "29.42430370370373\n",
      "28.064999999999998\n"
     ]
    }
   ],
   "source": [
    "mean= pet['price'].mean()\n",
    "print(mean)\n",
    "median= pet['price'].median()\n",
    "print(median)"
   ]
  },
  {
   "cell_type": "code",
   "execution_count": 142,
   "id": "070570ba",
   "metadata": {},
   "outputs": [],
   "source": [
    "pet['price'].fillna(mean, inplace = True)"
   ]
  },
  {
   "cell_type": "code",
   "execution_count": 143,
   "id": "8cdb960d",
   "metadata": {},
   "outputs": [],
   "source": [
    "pet['rating'].fillna(0, inplace = True)"
   ]
  },
  {
   "cell_type": "code",
   "execution_count": 144,
   "id": "ff568e5e",
   "metadata": {},
   "outputs": [
    {
     "data": {
      "text/plain": [
       "category           0\n",
       "animal             0\n",
       "size               0\n",
       "price              0\n",
       "sales              0\n",
       "rating             0\n",
       "repeat_purchase    0\n",
       "dtype: int64"
      ]
     },
     "execution_count": 144,
     "metadata": {},
     "output_type": "execute_result"
    }
   ],
   "source": [
    "pet.isna().sum()"
   ]
  },
  {
   "cell_type": "code",
   "execution_count": 154,
   "id": "aecf41cd",
   "metadata": {},
   "outputs": [
    {
     "data": {
      "text/html": [
       "<div>\n",
       "<style scoped>\n",
       "    .dataframe tbody tr th:only-of-type {\n",
       "        vertical-align: middle;\n",
       "    }\n",
       "\n",
       "    .dataframe tbody tr th {\n",
       "        vertical-align: top;\n",
       "    }\n",
       "\n",
       "    .dataframe thead th {\n",
       "        text-align: right;\n",
       "    }\n",
       "</style>\n",
       "<table border=\"1\" class=\"dataframe\">\n",
       "  <thead>\n",
       "    <tr style=\"text-align: right;\">\n",
       "      <th></th>\n",
       "      <th>category</th>\n",
       "      <th>animal</th>\n",
       "      <th>size</th>\n",
       "      <th>price</th>\n",
       "      <th>sales</th>\n",
       "      <th>rating</th>\n",
       "      <th>repeat_purchase</th>\n",
       "    </tr>\n",
       "    <tr>\n",
       "      <th>product_id</th>\n",
       "      <th></th>\n",
       "      <th></th>\n",
       "      <th></th>\n",
       "      <th></th>\n",
       "      <th></th>\n",
       "      <th></th>\n",
       "      <th></th>\n",
       "    </tr>\n",
       "  </thead>\n",
       "  <tbody>\n",
       "    <tr>\n",
       "      <th>1</th>\n",
       "      <td>Food</td>\n",
       "      <td>Bird</td>\n",
       "      <td>Large</td>\n",
       "      <td>51.10</td>\n",
       "      <td>1860.62</td>\n",
       "      <td>7.0</td>\n",
       "      <td>repeat_purchases</td>\n",
       "    </tr>\n",
       "    <tr>\n",
       "      <th>2</th>\n",
       "      <td>Housing</td>\n",
       "      <td>Bird</td>\n",
       "      <td>Medium</td>\n",
       "      <td>35.98</td>\n",
       "      <td>963.60</td>\n",
       "      <td>6.0</td>\n",
       "      <td>non_repeat_purchases</td>\n",
       "    </tr>\n",
       "    <tr>\n",
       "      <th>3</th>\n",
       "      <td>Food</td>\n",
       "      <td>Dog</td>\n",
       "      <td>Medium</td>\n",
       "      <td>31.23</td>\n",
       "      <td>898.30</td>\n",
       "      <td>5.0</td>\n",
       "      <td>repeat_purchases</td>\n",
       "    </tr>\n",
       "    <tr>\n",
       "      <th>4</th>\n",
       "      <td>Medicine</td>\n",
       "      <td>Cat</td>\n",
       "      <td>Small</td>\n",
       "      <td>24.95</td>\n",
       "      <td>982.15</td>\n",
       "      <td>6.0</td>\n",
       "      <td>repeat_purchases</td>\n",
       "    </tr>\n",
       "    <tr>\n",
       "      <th>5</th>\n",
       "      <td>Housing</td>\n",
       "      <td>Cat</td>\n",
       "      <td>Small</td>\n",
       "      <td>26.18</td>\n",
       "      <td>832.63</td>\n",
       "      <td>7.0</td>\n",
       "      <td>repeat_purchases</td>\n",
       "    </tr>\n",
       "  </tbody>\n",
       "</table>\n",
       "</div>"
      ],
      "text/plain": [
       "            category animal    size  price    sales  rating  \\\n",
       "product_id                                                    \n",
       "1               Food   Bird   Large  51.10  1860.62     7.0   \n",
       "2            Housing   Bird  Medium  35.98   963.60     6.0   \n",
       "3               Food    Dog  Medium  31.23   898.30     5.0   \n",
       "4           Medicine    Cat   Small  24.95   982.15     6.0   \n",
       "5            Housing    Cat   Small  26.18   832.63     7.0   \n",
       "\n",
       "                 repeat_purchase  \n",
       "product_id                        \n",
       "1               repeat_purchases  \n",
       "2           non_repeat_purchases  \n",
       "3               repeat_purchases  \n",
       "4               repeat_purchases  \n",
       "5               repeat_purchases  "
      ]
     },
     "execution_count": 154,
     "metadata": {},
     "output_type": "execute_result"
    }
   ],
   "source": [
    "pet.head()"
   ]
  },
  {
   "cell_type": "code",
   "execution_count": 153,
   "id": "1e471126",
   "metadata": {},
   "outputs": [
    {
     "data": {
      "image/png": "[encoded data removed]",
      "text/plain": [
       "<Figure size 640x480 with 1 Axes>"
      ]
     },
     "metadata": {},
     "output_type": "display_data"
    },
    {
     "name": "stdout",
     "output_type": "stream",
     "text": [
      "repeat_purchase\n",
      "non_repeat_purchases    594\n",
      "repeat_purchases        906\n",
      "Name: sales, dtype: int64\n"
     ]
    }
   ],
   "source": [
    "import pandas as pd \n",
    "import matplotlib.pyplot as plt \n",
    "import seaborn as sns\n",
    "g= sns.countplot(x= 'repeat_purchase', data= pet)\n",
    "g.set_title('Count of Product by Repeat_purchase')\n",
    "plt.show()\n",
    "\n",
    "Count_of_Product_by_Repeat_purchase = pet.groupby('repeat_purchase')['sales'].count()\n",
    "print(Count_of_Product_by_Repeat_purchase)"
   ]
  },
  {
   "cell_type": "code",
   "execution_count": 146,
   "id": "3a4dd59e",
   "metadata": {},
   "outputs": [
    {
     "data": {
      "image/png": "[encoded data removed]",
      "text/plain": [
       "<Figure size 500x500 with 1 Axes>"
      ]
     },
     "metadata": {},
     "output_type": "display_data"
    }
   ],
   "source": [
    "import pandas as pd \n",
    "import matplotlib.pyplot as plt \n",
    "import seaborn as sns\n",
    "g= sns.catplot(x='repeat_purchase', y= 'sales', data= pet, kind= 'bar', estimator=sum)\n",
    "g.fig.suptitle('Sum of Sales/ Total Sales by Repeat_purchase', y= 1.03)\n",
    "plt.show()"
   ]
  },
  {
   "cell_type": "code",
   "execution_count": 147,
   "id": "983d4c44",
   "metadata": {},
   "outputs": [
    {
     "data": {
      "image/png": "[encoded data removed]",
      "text/plain": [
       "<Figure size 500x500 with 1 Axes>"
      ]
     },
     "metadata": {},
     "output_type": "display_data"
    }
   ],
   "source": [
    "import pandas as pd \n",
    "import matplotlib.pyplot as plt \n",
    "import seaborn as sns\n",
    "g= sns.catplot(x='repeat_purchase', y= 'sales', data= pet, kind= 'bar')\n",
    "g.fig.suptitle('Average Sales by Repeat_purchase', y=1.03)\n",
    "plt.show()"
   ]
  },
  {
   "cell_type": "code",
   "execution_count": 148,
   "id": "ef8d23e0",
   "metadata": {},
   "outputs": [
    {
     "data": {
      "image/png": "[encoded data removed]",
      "text/plain": [
       "<Figure size 500x500 with 1 Axes>"
      ]
     },
     "metadata": {},
     "output_type": "display_data"
    }
   ],
   "source": [
    "import pandas as pd \n",
    "import matplotlib.pyplot as plt \n",
    "import seaborn as sns\n",
    "g= sns.catplot(x='repeat_purchase', y= 'sales', data= pet, kind= 'box')\n",
    "g.fig.suptitle('Average Sales by Repeat_purchase', y=1.03)\n",
    "plt.show()"
   ]
  },
  {
   "cell_type": "code",
   "execution_count": 149,
   "id": "d39b6954",
   "metadata": {},
   "outputs": [
    {
     "name": "stdout",
     "output_type": "stream",
     "text": [
      "repeat_purchase\n",
      "non_repeat_purchases    1028.368013\n",
      "repeat_purchases         975.768400\n",
      "Name: sales, dtype: float64\n"
     ]
    }
   ],
   "source": [
    "xbar= pet.groupby('repeat_purchase')['sales'].mean()\n",
    "print(xbar)"
   ]
  },
  {
   "cell_type": "code",
   "execution_count": 150,
   "id": "98451485",
   "metadata": {},
   "outputs": [
    {
     "name": "stdout",
     "output_type": "stream",
     "text": [
      "repeat_purchase\n",
      "non_repeat_purchases    316.915770\n",
      "repeat_purchases        326.985415\n",
      "Name: sales, dtype: float64\n"
     ]
    }
   ],
   "source": [
    "s= pet.groupby('repeat_purchase')['sales'].std()\n",
    "print(s)"
   ]
  },
  {
   "cell_type": "code",
   "execution_count": 151,
   "id": "cd40db0b",
   "metadata": {},
   "outputs": [
    {
     "name": "stdout",
     "output_type": "stream",
     "text": [
      "repeat_purchase\n",
      "non_repeat_purchases    594\n",
      "repeat_purchases        906\n",
      "Name: sales, dtype: int64\n"
     ]
    }
   ],
   "source": [
    "n= pet.groupby('repeat_purchase')['sales'].count()\n",
    "print(n)"
   ]
  },
  {
   "cell_type": "code",
   "execution_count": 152,
   "id": "b164504b",
   "metadata": {},
   "outputs": [
    {
     "name": "stdout",
     "output_type": "stream",
     "text": [
      "3.104336962632329\n"
     ]
    },
    {
     "data": {
      "text/plain": [
       "0.0009713842554160967"
      ]
     },
     "execution_count": 152,
     "metadata": {},
     "output_type": "execute_result"
    }
   ],
   "source": [
    "x_reap= 975.768400\n",
    "x_non_reap= 1028.368013\n",
    "s_reap = 326.985415\n",
    "s_non_reap= 316.915770\n",
    "n_reap = 906\n",
    "n_non_reap= 594\n",
    "dfe= n_non_reap + n_reap - 2\n",
    "\n",
    "import numpy as np\n",
    "numerator= x_non_reap- x_reap\n",
    "denominator= np.sqrt(s_non_reap ** 2 /n_non_reap + s_reap ** 2/ n_reap)\n",
    "t_stat= numerator/denominator\n",
    "print(t_stat)\n",
    "\n",
    "from scipy.stats import t\n",
    "1- t.cdf(t_stat, df=dfe)"
   ]
  },
  {
   "cell_type": "code",
   "execution_count": null,
   "id": "6610b294",
   "metadata": {},
   "outputs": [],
   "source": []
  }
 ],
 "metadata": {
  "kernelspec": {
   "display_name": "Python 3 (ipykernel)",
   "language": "python",
   "name": "python3"
  },
  "language_info": {
   "codemirror_mode": {
    "name": "ipython",
    "version": 3
   },
   "file_extension": ".py",
   "mimetype": "text/x-python",
   "name": "python",
   "nbconvert_exporter": "python",
   "pygments_lexer": "ipython3",
   "version": "3.9.13"
  }
 },
 "nbformat": 4,
 "nbformat_minor": 5
}
